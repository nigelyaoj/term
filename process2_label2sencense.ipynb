{
 "cells": [
  {
   "cell_type": "markdown",
   "metadata": {
    "toc": true
   },
   "source": [
    "<h1>Table of Contents<span class=\"tocSkip\"></span></h1>\n",
    "<div class=\"toc\"><ul class=\"toc-item\"></ul></div>"
   ]
  },
  {
   "cell_type": "code",
   "execution_count": 1,
   "metadata": {},
   "outputs": [],
   "source": [
    "import pandas as pd\n",
    "import numpy as np\n",
    "import os\n",
    "import re\n",
    "from copy import deepcopy\n",
    "from tqdm import tqdm"
   ]
  },
  {
   "cell_type": "code",
   "execution_count": 2,
   "metadata": {},
   "outputs": [],
   "source": [
    "train_data = pd.read_csv(\"./train.csv\")\n",
    "test_data = pd.read_csv(\"./sample_submission.csv\")"
   ]
  },
  {
   "cell_type": "code",
   "execution_count": 3,
   "metadata": {},
   "outputs": [],
   "source": [
    "title_ids = list(set(train_data[\"Id\"]))\n",
    "id_title_dict = dict()\n",
    "for tid in title_ids:\n",
    "    id_title_dict[tid] = pd.read_json(os.path.join(\"./train/\", tid+\".json\"))"
   ]
  },
  {
   "cell_type": "code",
   "execution_count": 4,
   "metadata": {},
   "outputs": [],
   "source": [
    "id_datalabel_dict = dict()\n",
    "for id_, dataset_ in zip(train_data[\"Id\"], train_data[\"dataset_label\"]):\n",
    "    id_datalabel_dict.setdefault(id_, []).append(dataset_)"
   ]
  },
  {
   "cell_type": "code",
   "execution_count": 5,
   "metadata": {},
   "outputs": [],
   "source": [
    "def datalabels_match_sen(data_labels, sen):\n",
    "    for datalabel_ in data_labels:\n",
    "        if sen.find(datalabel_):\n",
    "            return True\n",
    "    \n",
    "    return False"
   ]
  },
  {
   "cell_type": "code",
   "execution_count": 6,
   "metadata": {
    "code_folding": []
   },
   "outputs": [
    {
     "name": "stderr",
     "output_type": "stream",
     "text": [
      "100%|██████████| 14316/14316 [01:34<00:00, 151.71it/s]\n"
     ]
    }
   ],
   "source": [
    "dfs = []\n",
    "\n",
    "for tid in tqdm(title_ids):\n",
    "    data_labels = id_datalabel_dict[tid]\n",
    "    \n",
    "    sen_res = []\n",
    "    encoding_res = []\n",
    "    labels = []\n",
    "    dataset_labels = []\n",
    "    for text in id_title_dict[tid][\"text\"]:\n",
    "        sentences = re.split('[.!?]', text)\n",
    "        for sen in sentences:\n",
    "            sen_res.append(deepcopy(sen))\n",
    "            encodings = [\"O\"] * len(sen.split(\" \"))\n",
    "#             print(encodings)\n",
    "#             print(sen)\n",
    "#             print(\"====\")\n",
    "            \n",
    "            for data_label_ in data_labels:\n",
    "                flag = 0\n",
    "                str_start = sen.find(data_label_)\n",
    "                \n",
    "                if str_start > -1:\n",
    "#                     print(sen, data_label_)\n",
    "                    sen = list(sen)\n",
    "#                     print(sen)\n",
    "                    for idx in range(str_start, str_start+len(data_label_)): \n",
    "                        sen[idx] = \"¥\" if sen[idx] != \" \" else \" \"\n",
    "                    sen = \"\".join(sen)\n",
    "#                     print(sen)\n",
    "                    words = sen.split(\" \")\n",
    "                    encodings = []\n",
    "                    \n",
    "                    \n",
    "                    for word in words:\n",
    "                        if word.find(\"¥\") > -1:\n",
    "                            flag += 1\n",
    "                            if flag == 1:\n",
    "                                encodings.append(\"B-DS\")\n",
    "                            else:\n",
    "                                encodings.append(\"I-DS\")\n",
    "                        else:\n",
    "                            if flag > 0:\n",
    "                                encodings[-1] = \"E-DS\"\n",
    "                                flag = 0\n",
    "                            encodings.append(\"O\")\n",
    "                    break\n",
    "                    \n",
    "            encoding_res.append(encodings)\n",
    "            labels.append(1 if str_start > -1 else 0)\n",
    "            dataset_labels.append(data_label_ if str_start > -1 else \"Null\")\n",
    "            \n",
    "    df = pd.DataFrame()\n",
    "    df[\"Sentence\"] = sen_res\n",
    "    df[\"Mask\"] = encoding_res\n",
    "    df[\"Id\"] = tid\n",
    "    df[\"Label\"] = labels\n",
    "    df[\"Dataset_label\"] = dataset_labels\n",
    "    \n",
    "    dfs.append(df)\n",
    "\n"
   ]
  },
  {
   "cell_type": "code",
   "execution_count": 7,
   "metadata": {},
   "outputs": [],
   "source": [
    "dfs = pd.concat(dfs, axis=0)\n",
    "dfs = dfs[dfs[\"Sentence\"] != \"\"]\n",
    "dfs.to_csv(\"data_preprocessed2.csv\")"
   ]
  },
  {
   "cell_type": "code",
   "execution_count": 9,
   "metadata": {},
   "outputs": [
    {
     "data": {
      "text/html": [
       "<div>\n",
       "<style scoped>\n",
       "    .dataframe tbody tr th:only-of-type {\n",
       "        vertical-align: middle;\n",
       "    }\n",
       "\n",
       "    .dataframe tbody tr th {\n",
       "        vertical-align: top;\n",
       "    }\n",
       "\n",
       "    .dataframe thead th {\n",
       "        text-align: right;\n",
       "    }\n",
       "</style>\n",
       "<table border=\"1\" class=\"dataframe\">\n",
       "  <thead>\n",
       "    <tr style=\"text-align: right;\">\n",
       "      <th></th>\n",
       "      <th>Sentence</th>\n",
       "      <th>Mask</th>\n",
       "      <th>Id</th>\n",
       "      <th>Label</th>\n",
       "      <th>Dataset_label</th>\n",
       "    </tr>\n",
       "  </thead>\n",
       "  <tbody>\n",
       "    <tr>\n",
       "      <th>2</th>\n",
       "      <td>In this study, we examined Turkish teachers' ...</td>\n",
       "      <td>[O, O, O, O, O, O, O, O, O, O, O, O, O, O, O, ...</td>\n",
       "      <td>401513e7-49eb-4ee2-ae2a-790416de4600</td>\n",
       "      <td>1</td>\n",
       "      <td>Trends in International Mathematics and Scienc...</td>\n",
       "    </tr>\n",
       "    <tr>\n",
       "      <th>62</th>\n",
       "      <td>\\nIn this context, the purpose of the current ...</td>\n",
       "      <td>[O, O, O, O, O, O, O, O, O, O, O, O, O, O, O, ...</td>\n",
       "      <td>401513e7-49eb-4ee2-ae2a-790416de4600</td>\n",
       "      <td>1</td>\n",
       "      <td>Trends in International Mathematics and Scienc...</td>\n",
       "    </tr>\n",
       "    <tr>\n",
       "      <th>25</th>\n",
       "      <td>Satellite sea surface temperature, hydrograph...</td>\n",
       "      <td>[O, O, O, O, O, O, O, O, B-DS, I-DS, E-DS, O, ...</td>\n",
       "      <td>92064981-12b3-45e2-92dc-c195bff04495</td>\n",
       "      <td>1</td>\n",
       "      <td>World Ocean Database</td>\n",
       "    </tr>\n",
       "    <tr>\n",
       "      <th>2</th>\n",
       "      <td>In this policy brief we analyze data from 37 ...</td>\n",
       "      <td>[O, O, O, O, O, O, O, O, O, O, O, O, O, O, O, ...</td>\n",
       "      <td>a7fc8a6f-40ea-46db-ab72-a49007d088ae</td>\n",
       "      <td>1</td>\n",
       "      <td>Trends in International Mathematics and Scienc...</td>\n",
       "    </tr>\n",
       "    <tr>\n",
       "      <th>158</th>\n",
       "      <td>In studying this phenomenon in the nationally...</td>\n",
       "      <td>[O, O, O, O, O, O, O, O, O, B-DS, I-DS, I-DS, ...</td>\n",
       "      <td>8468ffc2-b5bb-4e91-af1d-0b874a889158</td>\n",
       "      <td>1</td>\n",
       "      <td>Early Childhood Longitudinal Study</td>\n",
       "    </tr>\n",
       "    <tr>\n",
       "      <th>...</th>\n",
       "      <td>...</td>\n",
       "      <td>...</td>\n",
       "      <td>...</td>\n",
       "      <td>...</td>\n",
       "      <td>...</td>\n",
       "    </tr>\n",
       "    <tr>\n",
       "      <th>84</th>\n",
       "      <td>In a subset of ADNI 1 participants with avail...</td>\n",
       "      <td>[O, O, O, O, O, E-DS, O, O, O, O, O, O, O, O, ...</td>\n",
       "      <td>cd715fd5-7256-4ad2-8834-fb042734d86a</td>\n",
       "      <td>1</td>\n",
       "      <td>ADNI</td>\n",
       "    </tr>\n",
       "    <tr>\n",
       "      <th>85</th>\n",
       "      <td>In ADNI 1 participants with available genotyp...</td>\n",
       "      <td>[O, O, E-DS, O, O, O, O, O, O, O, O, O, O, O, ...</td>\n",
       "      <td>cd715fd5-7256-4ad2-8834-fb042734d86a</td>\n",
       "      <td>1</td>\n",
       "      <td>ADNI</td>\n",
       "    </tr>\n",
       "    <tr>\n",
       "      <th>91</th>\n",
       "      <td>Specifically, using Cox proportional hazard m...</td>\n",
       "      <td>[O, O, O, O, O, O, O, O, O, O, O, O, O, O, O, ...</td>\n",
       "      <td>cd715fd5-7256-4ad2-8834-fb042734d86a</td>\n",
       "      <td>1</td>\n",
       "      <td>ADNI</td>\n",
       "    </tr>\n",
       "    <tr>\n",
       "      <th>121</th>\n",
       "      <td>When the findings were released in December 2...</td>\n",
       "      <td>[O, O, O, O, O, O, O, O, O, O, O, O, O, O, B-D...</td>\n",
       "      <td>07d9c326-cd53-4f6c-acae-ad941becc26f</td>\n",
       "      <td>1</td>\n",
       "      <td>Trends in International Mathematics and Scienc...</td>\n",
       "    </tr>\n",
       "    <tr>\n",
       "      <th>6</th>\n",
       "      <td>5 billion broilers and other meat-type chicken...</td>\n",
       "      <td>[O, O, O, O, O, O, O, O, B-DS, I-DS, E-DS, O]</td>\n",
       "      <td>b4a32e23-0b36-4fc0-92bb-1002aa71e577</td>\n",
       "      <td>1</td>\n",
       "      <td>Census of Agriculture</td>\n",
       "    </tr>\n",
       "  </tbody>\n",
       "</table>\n",
       "<p>49683 rows × 5 columns</p>\n",
       "</div>"
      ],
      "text/plain": [
       "                                              Sentence  \\\n",
       "2     In this study, we examined Turkish teachers' ...   \n",
       "62   \\nIn this context, the purpose of the current ...   \n",
       "25    Satellite sea surface temperature, hydrograph...   \n",
       "2     In this policy brief we analyze data from 37 ...   \n",
       "158   In studying this phenomenon in the nationally...   \n",
       "..                                                 ...   \n",
       "84    In a subset of ADNI 1 participants with avail...   \n",
       "85    In ADNI 1 participants with available genotyp...   \n",
       "91    Specifically, using Cox proportional hazard m...   \n",
       "121   When the findings were released in December 2...   \n",
       "6    5 billion broilers and other meat-type chicken...   \n",
       "\n",
       "                                                  Mask  \\\n",
       "2    [O, O, O, O, O, O, O, O, O, O, O, O, O, O, O, ...   \n",
       "62   [O, O, O, O, O, O, O, O, O, O, O, O, O, O, O, ...   \n",
       "25   [O, O, O, O, O, O, O, O, B-DS, I-DS, E-DS, O, ...   \n",
       "2    [O, O, O, O, O, O, O, O, O, O, O, O, O, O, O, ...   \n",
       "158  [O, O, O, O, O, O, O, O, O, B-DS, I-DS, I-DS, ...   \n",
       "..                                                 ...   \n",
       "84   [O, O, O, O, O, E-DS, O, O, O, O, O, O, O, O, ...   \n",
       "85   [O, O, E-DS, O, O, O, O, O, O, O, O, O, O, O, ...   \n",
       "91   [O, O, O, O, O, O, O, O, O, O, O, O, O, O, O, ...   \n",
       "121  [O, O, O, O, O, O, O, O, O, O, O, O, O, O, B-D...   \n",
       "6        [O, O, O, O, O, O, O, O, B-DS, I-DS, E-DS, O]   \n",
       "\n",
       "                                       Id  Label  \\\n",
       "2    401513e7-49eb-4ee2-ae2a-790416de4600      1   \n",
       "62   401513e7-49eb-4ee2-ae2a-790416de4600      1   \n",
       "25   92064981-12b3-45e2-92dc-c195bff04495      1   \n",
       "2    a7fc8a6f-40ea-46db-ab72-a49007d088ae      1   \n",
       "158  8468ffc2-b5bb-4e91-af1d-0b874a889158      1   \n",
       "..                                    ...    ...   \n",
       "84   cd715fd5-7256-4ad2-8834-fb042734d86a      1   \n",
       "85   cd715fd5-7256-4ad2-8834-fb042734d86a      1   \n",
       "91   cd715fd5-7256-4ad2-8834-fb042734d86a      1   \n",
       "121  07d9c326-cd53-4f6c-acae-ad941becc26f      1   \n",
       "6    b4a32e23-0b36-4fc0-92bb-1002aa71e577      1   \n",
       "\n",
       "                                         Dataset_label  \n",
       "2    Trends in International Mathematics and Scienc...  \n",
       "62   Trends in International Mathematics and Scienc...  \n",
       "25                                World Ocean Database  \n",
       "2    Trends in International Mathematics and Scienc...  \n",
       "158                 Early Childhood Longitudinal Study  \n",
       "..                                                 ...  \n",
       "84                                                ADNI  \n",
       "85                                                ADNI  \n",
       "91                                                ADNI  \n",
       "121  Trends in International Mathematics and Scienc...  \n",
       "6                                Census of Agriculture  \n",
       "\n",
       "[49683 rows x 5 columns]"
      ]
     },
     "execution_count": 9,
     "metadata": {},
     "output_type": "execute_result"
    }
   ],
   "source": [
    "dfs[dfs[\"Label\"]==1]"
   ]
  },
  {
   "cell_type": "code",
   "execution_count": 10,
   "metadata": {},
   "outputs": [
    {
     "data": {
      "text/plain": [
       "0.007922803890869648"
      ]
     },
     "execution_count": 10,
     "metadata": {},
     "output_type": "execute_result"
    }
   ],
   "source": [
    "(dfs[\"Label\"]==1).mean()"
   ]
  },
  {
   "cell_type": "code",
   "execution_count": null,
   "metadata": {},
   "outputs": [],
   "source": []
  }
 ],
 "metadata": {
  "kernelspec": {
   "display_name": "Python 3",
   "language": "python",
   "name": "python3"
  },
  "language_info": {
   "codemirror_mode": {
    "name": "ipython",
    "version": 3
   },
   "file_extension": ".py",
   "mimetype": "text/x-python",
   "name": "python",
   "nbconvert_exporter": "python",
   "pygments_lexer": "ipython3",
   "version": "3.7.7"
  },
  "toc": {
   "base_numbering": 1,
   "nav_menu": {},
   "number_sections": true,
   "sideBar": true,
   "skip_h1_title": false,
   "title_cell": "Table of Contents",
   "title_sidebar": "Contents",
   "toc_cell": true,
   "toc_position": {},
   "toc_section_display": true,
   "toc_window_display": true
  }
 },
 "nbformat": 4,
 "nbformat_minor": 4
}
